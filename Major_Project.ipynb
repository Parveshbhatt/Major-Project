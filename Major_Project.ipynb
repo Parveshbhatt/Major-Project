{
  "cells": [
    {
      "cell_type": "markdown",
      "metadata": {
        "id": "1utJDbLR2PxI"
      },
      "source": [
        "#Importing libraries"
      ]
    },
    {
      "cell_type": "code",
      "execution_count": 1,
      "metadata": {
        "id": "nh0DiikpQoJf"
      },
      "outputs": [],
      "source": [
        "import numpy as np\n",
        "import pandas as pd\n",
        "import matplotlib.pyplot as plt\n",
        "import seaborn as sns\n",
        "%matplotlib inline\n",
        "\n",
        "# to handle missing data\n",
        "from sklearn.impute import KNNImputer\n",
        "from sklearn.impute import SimpleImputer\n",
        "\n",
        "# for handling categorical data\n",
        "from sklearn.preprocessing import LabelBinarizer \n",
        "from sklearn.preprocessing import LabelEncoder \n",
        "\n",
        "# for seperating testing and training data\n",
        "from sklearn.model_selection import train_test_split\n",
        "\n",
        "# scaling the dataset\n",
        "from sklearn.preprocessing import MinMaxScaler\n",
        "\n",
        "# decision tree\n",
        "from sklearn.tree import DecisionTreeClassifier\n",
        "\n",
        "# for confusion matrix\n",
        "from sklearn.metrics import accuracy_score,confusion_matrix,classification_report\n",
        "\n",
        "# for random forest\n",
        "from sklearn.ensemble import RandomForestClassifier\n",
        "\n",
        "# for Support Vector Machine\n",
        "from sklearn.svm import SVC\n",
        "\n",
        "# for Logistic Regression\n",
        "from sklearn.linear_model import LogisticRegression\n",
        "\n",
        "# for storing the trained model as a pickle file\n",
        "import pickle\n"
      ]
    },
    {
      "cell_type": "code",
      "execution_count": null,
      "metadata": {
        "id": "19Wlr5GGavFa"
      },
      "outputs": [],
      "source": [
        "pip install gradio"
      ]
    },
    {
      "cell_type": "code",
      "execution_count": null,
      "metadata": {
        "id": "bVTHzi1Ga5qC"
      },
      "outputs": [],
      "source": [
        "# import gradio for displaying input and output as a web interface\n",
        "import gradio as gr"
      ]
    },
    {
      "cell_type": "markdown",
      "metadata": {
        "id": "JEKpxtk72mJP"
      },
      "source": [
        "#Functions to imporve visualization"
      ]
    },
    {
      "cell_type": "code",
      "execution_count": 2,
      "metadata": {
        "id": "3HPCCKJd2sFO"
      },
      "outputs": [],
      "source": [
        "def resizePlot():\n",
        "  plt.figure(figsize=(12,6))"
      ]
    },
    {
      "cell_type": "code",
      "execution_count": 3,
      "metadata": {
        "id": "EVuI1UHx20Tx"
      },
      "outputs": [],
      "source": [
        "def resizecolor():\n",
        "  plt.figure(figsize=(15,7))"
      ]
    },
    {
      "cell_type": "markdown",
      "metadata": {
        "id": "KqDNhb4B258I"
      },
      "source": [
        "# Loading the dataset"
      ]
    },
    {
      "cell_type": "code",
      "execution_count": 8,
      "metadata": {
        "id": "7TxSd4Ab27sR"
      },
      "outputs": [],
      "source": [
        "df = pd.read_csv(\"/content/Weather1.csv\")"
      ]
    },
    {
      "cell_type": "code",
      "execution_count": 9,
      "metadata": {
        "colab": {
          "base_uri": "https://localhost:8080/",
          "height": 206
        },
        "id": "Ayy83qms3IpZ",
        "outputId": "77aac595-f5f2-476d-9f74-0f42f91b5b95"
      },
      "outputs": [
        {
          "data": {
            "text/html": [
              "\n",
              "  <div id=\"df-6d01e298-9279-488b-b79a-225bf1d82b9e\">\n",
              "    <div class=\"colab-df-container\">\n",
              "      <div>\n",
              "<style scoped>\n",
              "    .dataframe tbody tr th:only-of-type {\n",
              "        vertical-align: middle;\n",
              "    }\n",
              "\n",
              "    .dataframe tbody tr th {\n",
              "        vertical-align: top;\n",
              "    }\n",
              "\n",
              "    .dataframe thead th {\n",
              "        text-align: right;\n",
              "    }\n",
              "</style>\n",
              "<table border=\"1\" class=\"dataframe\">\n",
              "  <thead>\n",
              "    <tr style=\"text-align: right;\">\n",
              "      <th></th>\n",
              "      <th>MinTemp</th>\n",
              "      <th>MaxTemp</th>\n",
              "      <th>Humidity9am</th>\n",
              "      <th>Humidity3pm</th>\n",
              "      <th>Temp9am</th>\n",
              "      <th>Temp3pm</th>\n",
              "      <th>RainToday</th>\n",
              "    </tr>\n",
              "  </thead>\n",
              "  <tbody>\n",
              "    <tr>\n",
              "      <th>0</th>\n",
              "      <td>8.0</td>\n",
              "      <td>24.3</td>\n",
              "      <td>68</td>\n",
              "      <td>29</td>\n",
              "      <td>14.4</td>\n",
              "      <td>23.6</td>\n",
              "      <td>No</td>\n",
              "    </tr>\n",
              "    <tr>\n",
              "      <th>1</th>\n",
              "      <td>14.0</td>\n",
              "      <td>26.9</td>\n",
              "      <td>80</td>\n",
              "      <td>36</td>\n",
              "      <td>17.5</td>\n",
              "      <td>25.7</td>\n",
              "      <td>Yes</td>\n",
              "    </tr>\n",
              "    <tr>\n",
              "      <th>2</th>\n",
              "      <td>13.7</td>\n",
              "      <td>23.4</td>\n",
              "      <td>82</td>\n",
              "      <td>69</td>\n",
              "      <td>15.4</td>\n",
              "      <td>20.2</td>\n",
              "      <td>Yes</td>\n",
              "    </tr>\n",
              "    <tr>\n",
              "      <th>3</th>\n",
              "      <td>13.3</td>\n",
              "      <td>15.5</td>\n",
              "      <td>62</td>\n",
              "      <td>56</td>\n",
              "      <td>13.5</td>\n",
              "      <td>14.1</td>\n",
              "      <td>Yes</td>\n",
              "    </tr>\n",
              "    <tr>\n",
              "      <th>4</th>\n",
              "      <td>7.6</td>\n",
              "      <td>16.1</td>\n",
              "      <td>68</td>\n",
              "      <td>49</td>\n",
              "      <td>11.1</td>\n",
              "      <td>15.4</td>\n",
              "      <td>Yes</td>\n",
              "    </tr>\n",
              "  </tbody>\n",
              "</table>\n",
              "</div>\n",
              "      <button class=\"colab-df-convert\" onclick=\"convertToInteractive('df-6d01e298-9279-488b-b79a-225bf1d82b9e')\"\n",
              "              title=\"Convert this dataframe to an interactive table.\"\n",
              "              style=\"display:none;\">\n",
              "        \n",
              "  <svg xmlns=\"http://www.w3.org/2000/svg\" height=\"24px\"viewBox=\"0 0 24 24\"\n",
              "       width=\"24px\">\n",
              "    <path d=\"M0 0h24v24H0V0z\" fill=\"none\"/>\n",
              "    <path d=\"M18.56 5.44l.94 2.06.94-2.06 2.06-.94-2.06-.94-.94-2.06-.94 2.06-2.06.94zm-11 1L8.5 8.5l.94-2.06 2.06-.94-2.06-.94L8.5 2.5l-.94 2.06-2.06.94zm10 10l.94 2.06.94-2.06 2.06-.94-2.06-.94-.94-2.06-.94 2.06-2.06.94z\"/><path d=\"M17.41 7.96l-1.37-1.37c-.4-.4-.92-.59-1.43-.59-.52 0-1.04.2-1.43.59L10.3 9.45l-7.72 7.72c-.78.78-.78 2.05 0 2.83L4 21.41c.39.39.9.59 1.41.59.51 0 1.02-.2 1.41-.59l7.78-7.78 2.81-2.81c.8-.78.8-2.07 0-2.86zM5.41 20L4 18.59l7.72-7.72 1.47 1.35L5.41 20z\"/>\n",
              "  </svg>\n",
              "      </button>\n",
              "      \n",
              "  <style>\n",
              "    .colab-df-container {\n",
              "      display:flex;\n",
              "      flex-wrap:wrap;\n",
              "      gap: 12px;\n",
              "    }\n",
              "\n",
              "    .colab-df-convert {\n",
              "      background-color: #E8F0FE;\n",
              "      border: none;\n",
              "      border-radius: 50%;\n",
              "      cursor: pointer;\n",
              "      display: none;\n",
              "      fill: #1967D2;\n",
              "      height: 32px;\n",
              "      padding: 0 0 0 0;\n",
              "      width: 32px;\n",
              "    }\n",
              "\n",
              "    .colab-df-convert:hover {\n",
              "      background-color: #E2EBFA;\n",
              "      box-shadow: 0px 1px 2px rgba(60, 64, 67, 0.3), 0px 1px 3px 1px rgba(60, 64, 67, 0.15);\n",
              "      fill: #174EA6;\n",
              "    }\n",
              "\n",
              "    [theme=dark] .colab-df-convert {\n",
              "      background-color: #3B4455;\n",
              "      fill: #D2E3FC;\n",
              "    }\n",
              "\n",
              "    [theme=dark] .colab-df-convert:hover {\n",
              "      background-color: #434B5C;\n",
              "      box-shadow: 0px 1px 3px 1px rgba(0, 0, 0, 0.15);\n",
              "      filter: drop-shadow(0px 1px 2px rgba(0, 0, 0, 0.3));\n",
              "      fill: #FFFFFF;\n",
              "    }\n",
              "  </style>\n",
              "\n",
              "      <script>\n",
              "        const buttonEl =\n",
              "          document.querySelector('#df-6d01e298-9279-488b-b79a-225bf1d82b9e button.colab-df-convert');\n",
              "        buttonEl.style.display =\n",
              "          google.colab.kernel.accessAllowed ? 'block' : 'none';\n",
              "\n",
              "        async function convertToInteractive(key) {\n",
              "          const element = document.querySelector('#df-6d01e298-9279-488b-b79a-225bf1d82b9e');\n",
              "          const dataTable =\n",
              "            await google.colab.kernel.invokeFunction('convertToInteractive',\n",
              "                                                     [key], {});\n",
              "          if (!dataTable) return;\n",
              "\n",
              "          const docLinkHtml = 'Like what you see? Visit the ' +\n",
              "            '<a target=\"_blank\" href=https://colab.research.google.com/notebooks/data_table.ipynb>data table notebook</a>'\n",
              "            + ' to learn more about interactive tables.';\n",
              "          element.innerHTML = '';\n",
              "          dataTable['output_type'] = 'display_data';\n",
              "          await google.colab.output.renderOutput(dataTable, element);\n",
              "          const docLink = document.createElement('div');\n",
              "          docLink.innerHTML = docLinkHtml;\n",
              "          element.appendChild(docLink);\n",
              "        }\n",
              "      </script>\n",
              "    </div>\n",
              "  </div>\n",
              "  "
            ],
            "text/plain": [
              "   MinTemp  MaxTemp  Humidity9am  Humidity3pm  Temp9am  Temp3pm RainToday\n",
              "0      8.0     24.3           68           29     14.4     23.6        No\n",
              "1     14.0     26.9           80           36     17.5     25.7       Yes\n",
              "2     13.7     23.4           82           69     15.4     20.2       Yes\n",
              "3     13.3     15.5           62           56     13.5     14.1       Yes\n",
              "4      7.6     16.1           68           49     11.1     15.4       Yes"
            ]
          },
          "execution_count": 9,
          "metadata": {},
          "output_type": "execute_result"
        }
      ],
      "source": [
        "df.head()"
      ]
    },
    {
      "cell_type": "markdown",
      "metadata": {
        "id": "rJc4o8QtXLc5"
      },
      "source": [
        "# Handling Missing data"
      ]
    },
    {
      "cell_type": "markdown",
      "metadata": {
        "id": "W8N7HT273TDu"
      },
      "source": [
        "## Checking the existence of missing data"
      ]
    },
    {
      "cell_type": "code",
      "execution_count": 10,
      "metadata": {
        "colab": {
          "base_uri": "https://localhost:8080/"
        },
        "id": "o-Kjybc-3XOv",
        "outputId": "4b788106-d3ce-4c78-b056-0a788c9ae713"
      },
      "outputs": [
        {
          "data": {
            "text/plain": [
              "MinTemp        0\n",
              "MaxTemp        0\n",
              "Humidity9am    0\n",
              "Humidity3pm    0\n",
              "Temp9am        0\n",
              "Temp3pm        0\n",
              "RainToday      0\n",
              "dtype: int64"
            ]
          },
          "execution_count": 10,
          "metadata": {},
          "output_type": "execute_result"
        }
      ],
      "source": [
        "df.isnull().sum()"
      ]
    },
    {
      "cell_type": "markdown",
      "metadata": {
        "id": "2MN_jV2y3g64"
      },
      "source": [
        "## Visualizing missing data"
      ]
    },
    {
      "cell_type": "code",
      "execution_count": 11,
      "metadata": {
        "colab": {
          "base_uri": "https://localhost:8080/",
          "height": 392
        },
        "id": "bVEqJZ_z3fR_",
        "outputId": "1ee1d2da-e16d-489b-d92b-e706817182de"
      },
      "outputs": [
        {
          "data": {
            "text/plain": [
              "<matplotlib.axes._subplots.AxesSubplot at 0x7f9059cb2ad0>"
            ]
          },
          "execution_count": 11,
          "metadata": {},
          "output_type": "execute_result"
        },
        {
          "data": {
            "image/png": "[encoded data removed]",
            "text/plain": [
              "<Figure size 864x432 with 1 Axes>"
            ]
          },
          "metadata": {
            "needs_background": "light"
          },
          "output_type": "display_data"
        }
      ],
      "source": [
        "resizePlot()\n",
        "sns.heatmap(df.isnull(), yticklabels=False, cbar=False, cmap='viridis')"
      ]
    },
    {
      "cell_type": "markdown",
      "metadata": {
        "id": "VWVVqEP36mG_"
      },
      "source": [
        "# Plotting HeatMap to derive hidden correlations bw the columns of the dataset"
      ]
    },
    {
      "cell_type": "code",
      "execution_count": 12,
      "metadata": {
        "colab": {
          "base_uri": "https://localhost:8080/",
          "height": 414
        },
        "id": "d8FkvEng6isO",
        "outputId": "1f2dd3c8-d738-4077-8f33-547f5eabb5c2"
      },
      "outputs": [
        {
          "data": {
            "text/plain": [
              "<matplotlib.axes._subplots.AxesSubplot at 0x7f905566d090>"
            ]
          },
          "execution_count": 12,
          "metadata": {},
          "output_type": "execute_result"
        },
        {
          "data": {
            "image/png": "[encoded data removed]",
            "text/plain": [
              "<Figure size 1080x504 with 2 Axes>"
            ]
          },
          "metadata": {
            "needs_background": "light"
          },
          "output_type": "display_data"
        }
      ],
      "source": [
        "resizecolor()\n",
        "sns.heatmap(df.corr(),annot=True)"
      ]
    },
    {
      "cell_type": "markdown",
      "metadata": {
        "id": "fnnZSsiRU0d7"
      },
      "source": [
        "# Finding the correlation bw variables and their dependency and drawing conclusions"
      ]
    },
    {
      "cell_type": "markdown",
      "metadata": {
        "id": "DOeK1Ko267OB"
      },
      "source": [
        "**Highest correlation exists bw MinTemp & Temp9am**"
      ]
    },
    {
      "cell_type": "code",
      "execution_count": 13,
      "metadata": {
        "colab": {
          "base_uri": "https://localhost:8080/",
          "height": 387
        },
        "id": "CCf9pwah7CqY",
        "outputId": "a929bc14-fb6c-4d86-fce4-6c3c9d208e27"
      },
      "outputs": [
        {
          "data": {
            "text/plain": [
              "<seaborn.axisgrid.FacetGrid at 0x7f9055132990>"
            ]
          },
          "execution_count": 13,
          "metadata": {},
          "output_type": "execute_result"
        },
        {
          "data": {
            "image/png": "[encoded data removed]",
            "text/plain": [
              "<Figure size 360x360 with 1 Axes>"
            ]
          },
          "metadata": {
            "needs_background": "light"
          },
          "output_type": "display_data"
        }
      ],
      "source": [
        "sns.relplot(x='MinTemp', y='Temp9am', data = df)"
      ]
    },
    {
      "cell_type": "markdown",
      "metadata": {
        "id": "ZV08bC5T7QgE"
      },
      "source": [
        "**Plotting same graph as above for MaxTemp & Temp3pm**"
      ]
    },
    {
      "cell_type": "code",
      "execution_count": 14,
      "metadata": {
        "colab": {
          "base_uri": "https://localhost:8080/",
          "height": 387
        },
        "id": "678vvfG17NAo",
        "outputId": "e77296a6-0541-4c91-f876-fcde16dafed9"
      },
      "outputs": [
        {
          "data": {
            "text/plain": [
              "<seaborn.axisgrid.FacetGrid at 0x7f9055144790>"
            ]
          },
          "execution_count": 14,
          "metadata": {},
          "output_type": "execute_result"
        },
        {
          "data": {
            "image/png": "[encoded data removed]",
            "text/plain": [
              "<Figure size 360x360 with 1 Axes>"
            ]
          },
          "metadata": {
            "needs_background": "light"
          },
          "output_type": "display_data"
        }
      ],
      "source": [
        "sns.relplot(x='MaxTemp', y='Temp9am', data = df)"
      ]
    },
    {
      "cell_type": "markdown",
      "metadata": {
        "id": "OeEmWqq9VoMB"
      },
      "source": [
        "# Converting Categorical Data to Numeric Data"
      ]
    },
    {
      "cell_type": "code",
      "execution_count": 15,
      "metadata": {
        "id": "8NCQdJA0WiVO"
      },
      "outputs": [],
      "source": [
        "le = LabelEncoder()"
      ]
    },
    {
      "cell_type": "code",
      "execution_count": 20,
      "metadata": {
        "id": "ol31cB5uWlIA"
      },
      "outputs": [],
      "source": [
        "df['RainToday'] = le.fit_transform(df['RainToday'])"
      ]
    },
    {
      "cell_type": "code",
      "execution_count": 21,
      "metadata": {
        "colab": {
          "base_uri": "https://localhost:8080/",
          "height": 206
        },
        "id": "lG4baFWkWpMC",
        "outputId": "481a4d93-af8d-4142-d2a9-86619ce8f5b5"
      },
      "outputs": [
        {
          "data": {
            "text/html": [
              "\n",
              "  <div id=\"df-5f0929a3-f9cc-4760-ae46-54cfdbb15793\">\n",
              "    <div class=\"colab-df-container\">\n",
              "      <div>\n",
              "<style scoped>\n",
              "    .dataframe tbody tr th:only-of-type {\n",
              "        vertical-align: middle;\n",
              "    }\n",
              "\n",
              "    .dataframe tbody tr th {\n",
              "        vertical-align: top;\n",
              "    }\n",
              "\n",
              "    .dataframe thead th {\n",
              "        text-align: right;\n",
              "    }\n",
              "</style>\n",
              "<table border=\"1\" class=\"dataframe\">\n",
              "  <thead>\n",
              "    <tr style=\"text-align: right;\">\n",
              "      <th></th>\n",
              "      <th>MinTemp</th>\n",
              "      <th>MaxTemp</th>\n",
              "      <th>Humidity9am</th>\n",
              "      <th>Humidity3pm</th>\n",
              "      <th>Temp9am</th>\n",
              "      <th>Temp3pm</th>\n",
              "      <th>RainToday</th>\n",
              "    </tr>\n",
              "  </thead>\n",
              "  <tbody>\n",
              "    <tr>\n",
              "      <th>0</th>\n",
              "      <td>8.0</td>\n",
              "      <td>24.3</td>\n",
              "      <td>68</td>\n",
              "      <td>29</td>\n",
              "      <td>14.4</td>\n",
              "      <td>23.6</td>\n",
              "      <td>0</td>\n",
              "    </tr>\n",
              "    <tr>\n",
              "      <th>1</th>\n",
              "      <td>14.0</td>\n",
              "      <td>26.9</td>\n",
              "      <td>80</td>\n",
              "      <td>36</td>\n",
              "      <td>17.5</td>\n",
              "      <td>25.7</td>\n",
              "      <td>1</td>\n",
              "    </tr>\n",
              "    <tr>\n",
              "      <th>2</th>\n",
              "      <td>13.7</td>\n",
              "      <td>23.4</td>\n",
              "      <td>82</td>\n",
              "      <td>69</td>\n",
              "      <td>15.4</td>\n",
              "      <td>20.2</td>\n",
              "      <td>1</td>\n",
              "    </tr>\n",
              "    <tr>\n",
              "      <th>3</th>\n",
              "      <td>13.3</td>\n",
              "      <td>15.5</td>\n",
              "      <td>62</td>\n",
              "      <td>56</td>\n",
              "      <td>13.5</td>\n",
              "      <td>14.1</td>\n",
              "      <td>1</td>\n",
              "    </tr>\n",
              "    <tr>\n",
              "      <th>4</th>\n",
              "      <td>7.6</td>\n",
              "      <td>16.1</td>\n",
              "      <td>68</td>\n",
              "      <td>49</td>\n",
              "      <td>11.1</td>\n",
              "      <td>15.4</td>\n",
              "      <td>1</td>\n",
              "    </tr>\n",
              "  </tbody>\n",
              "</table>\n",
              "</div>\n",
              "      <button class=\"colab-df-convert\" onclick=\"convertToInteractive('df-5f0929a3-f9cc-4760-ae46-54cfdbb15793')\"\n",
              "              title=\"Convert this dataframe to an interactive table.\"\n",
              "              style=\"display:none;\">\n",
              "        \n",
              "  <svg xmlns=\"http://www.w3.org/2000/svg\" height=\"24px\"viewBox=\"0 0 24 24\"\n",
              "       width=\"24px\">\n",
              "    <path d=\"M0 0h24v24H0V0z\" fill=\"none\"/>\n",
              "    <path d=\"M18.56 5.44l.94 2.06.94-2.06 2.06-.94-2.06-.94-.94-2.06-.94 2.06-2.06.94zm-11 1L8.5 8.5l.94-2.06 2.06-.94-2.06-.94L8.5 2.5l-.94 2.06-2.06.94zm10 10l.94 2.06.94-2.06 2.06-.94-2.06-.94-.94-2.06-.94 2.06-2.06.94z\"/><path d=\"M17.41 7.96l-1.37-1.37c-.4-.4-.92-.59-1.43-.59-.52 0-1.04.2-1.43.59L10.3 9.45l-7.72 7.72c-.78.78-.78 2.05 0 2.83L4 21.41c.39.39.9.59 1.41.59.51 0 1.02-.2 1.41-.59l7.78-7.78 2.81-2.81c.8-.78.8-2.07 0-2.86zM5.41 20L4 18.59l7.72-7.72 1.47 1.35L5.41 20z\"/>\n",
              "  </svg>\n",
              "      </button>\n",
              "      \n",
              "  <style>\n",
              "    .colab-df-container {\n",
              "      display:flex;\n",
              "      flex-wrap:wrap;\n",
              "      gap: 12px;\n",
              "    }\n",
              "\n",
              "    .colab-df-convert {\n",
              "      background-color: #E8F0FE;\n",
              "      border: none;\n",
              "      border-radius: 50%;\n",
              "      cursor: pointer;\n",
              "      display: none;\n",
              "      fill: #1967D2;\n",
              "      height: 32px;\n",
              "      padding: 0 0 0 0;\n",
              "      width: 32px;\n",
              "    }\n",
              "\n",
              "    .colab-df-convert:hover {\n",
              "      background-color: #E2EBFA;\n",
              "      box-shadow: 0px 1px 2px rgba(60, 64, 67, 0.3), 0px 1px 3px 1px rgba(60, 64, 67, 0.15);\n",
              "      fill: #174EA6;\n",
              "    }\n",
              "\n",
              "    [theme=dark] .colab-df-convert {\n",
              "      background-color: #3B4455;\n",
              "      fill: #D2E3FC;\n",
              "    }\n",
              "\n",
              "    [theme=dark] .colab-df-convert:hover {\n",
              "      background-color: #434B5C;\n",
              "      box-shadow: 0px 1px 3px 1px rgba(0, 0, 0, 0.15);\n",
              "      filter: drop-shadow(0px 1px 2px rgba(0, 0, 0, 0.3));\n",
              "      fill: #FFFFFF;\n",
              "    }\n",
              "  </style>\n",
              "\n",
              "      <script>\n",
              "        const buttonEl =\n",
              "          document.querySelector('#df-5f0929a3-f9cc-4760-ae46-54cfdbb15793 button.colab-df-convert');\n",
              "        buttonEl.style.display =\n",
              "          google.colab.kernel.accessAllowed ? 'block' : 'none';\n",
              "\n",
              "        async function convertToInteractive(key) {\n",
              "          const element = document.querySelector('#df-5f0929a3-f9cc-4760-ae46-54cfdbb15793');\n",
              "          const dataTable =\n",
              "            await google.colab.kernel.invokeFunction('convertToInteractive',\n",
              "                                                     [key], {});\n",
              "          if (!dataTable) return;\n",
              "\n",
              "          const docLinkHtml = 'Like what you see? Visit the ' +\n",
              "            '<a target=\"_blank\" href=https://colab.research.google.com/notebooks/data_table.ipynb>data table notebook</a>'\n",
              "            + ' to learn more about interactive tables.';\n",
              "          element.innerHTML = '';\n",
              "          dataTable['output_type'] = 'display_data';\n",
              "          await google.colab.output.renderOutput(dataTable, element);\n",
              "          const docLink = document.createElement('div');\n",
              "          docLink.innerHTML = docLinkHtml;\n",
              "          element.appendChild(docLink);\n",
              "        }\n",
              "      </script>\n",
              "    </div>\n",
              "  </div>\n",
              "  "
            ],
            "text/plain": [
              "   MinTemp  MaxTemp  Humidity9am  Humidity3pm  Temp9am  Temp3pm  RainToday\n",
              "0      8.0     24.3           68           29     14.4     23.6          0\n",
              "1     14.0     26.9           80           36     17.5     25.7          1\n",
              "2     13.7     23.4           82           69     15.4     20.2          1\n",
              "3     13.3     15.5           62           56     13.5     14.1          1\n",
              "4      7.6     16.1           68           49     11.1     15.4          1"
            ]
          },
          "execution_count": 21,
          "metadata": {},
          "output_type": "execute_result"
        }
      ],
      "source": [
        "df.head()"
      ]
    },
    {
      "cell_type": "markdown",
      "metadata": {
        "id": "exVaI8pGXrUg"
      },
      "source": [
        "# Training and Testing of ml algo"
      ]
    },
    {
      "cell_type": "markdown",
      "metadata": {
        "id": "WWmtq2feWttb"
      },
      "source": [
        "**Splitting the input and output variables**"
      ]
    },
    {
      "cell_type": "code",
      "execution_count": 19,
      "metadata": {
        "id": "gmIhMELyWxrb"
      },
      "outputs": [],
      "source": [
        "x = df.drop('RainToday',axis=1).values\n",
        "y = df['RainToday'].values"
      ]
    },
    {
      "cell_type": "markdown",
      "metadata": {
        "id": "70JvG_T6Xpra"
      },
      "source": [
        "**Scaling the data**"
      ]
    },
    {
      "cell_type": "code",
      "execution_count": 42,
      "metadata": {
        "id": "oAeX-ML1Xmz7"
      },
      "outputs": [],
      "source": [
        "# minMax = MinMaxScaler()\n",
        "# x = minMax.fit_transform(x)"
      ]
    },
    {
      "cell_type": "markdown",
      "metadata": {
        "id": "7KnYQJ9iYLC8"
      },
      "source": [
        "**Seperating the training and testing data**"
      ]
    },
    {
      "cell_type": "code",
      "execution_count": 43,
      "metadata": {
        "id": "KujrnssLYQH_"
      },
      "outputs": [],
      "source": [
        "X_train, X_test, y_train, y_test = train_test_split(x, y, test_size=0.33, random_state=101)"
      ]
    },
    {
      "cell_type": "markdown",
      "metadata": {
        "id": "cmBGX6bQYgta"
      },
      "source": [
        "## Applying Algorithms"
      ]
    },
    {
      "cell_type": "markdown",
      "metadata": {
        "id": "RCL8p093Yzz2"
      },
      "source": [
        "### Decision Tree"
      ]
    },
    {
      "cell_type": "code",
      "execution_count": 44,
      "metadata": {
        "id": "GQOLrs2kYtAi"
      },
      "outputs": [],
      "source": [
        "dtree = DecisionTreeClassifier()"
      ]
    },
    {
      "cell_type": "code",
      "execution_count": 46,
      "metadata": {
        "id": "Fz1IuOPuZDRe"
      },
      "outputs": [],
      "source": [
        "dtree.fit(X_train,y_train)\n",
        "\n",
        "\n",
        "# storing the trained model as a pickel file\n",
        "with open(\"decisionTree.pkl\",\"wb\") as f:\n",
        "  pickle.dump(dtree, f)\n"
      ]
    },
    {
      "cell_type": "code",
      "execution_count": 47,
      "metadata": {
        "id": "zf76NaHgZFvv"
      },
      "outputs": [],
      "source": [
        "previsor_dtree = dtree.predict(X_test)"
      ]
    },
    {
      "cell_type": "code",
      "execution_count": 48,
      "metadata": {
        "colab": {
          "base_uri": "https://localhost:8080/"
        },
        "id": "1osEt4haZSuC",
        "outputId": "c94bc06c-2145-42a5-a0e0-4b299933d9b1"
      },
      "outputs": [
        {
          "name": "stdout",
          "output_type": "stream",
          "text": [
            "              precision    recall  f1-score   support\n",
            "\n",
            "          No       0.89      0.89      0.89       104\n",
            "         Yes       0.31      0.29      0.30        17\n",
            "\n",
            "    accuracy                           0.81       121\n",
            "   macro avg       0.60      0.59      0.60       121\n",
            "weighted avg       0.81      0.81      0.81       121\n",
            "\n",
            "[[93 11]\n",
            " [12  5]]\n",
            "\n",
            "\n",
            "Accuracy: 81.0 %\n"
          ]
        }
      ],
      "source": [
        "print(classification_report(y_test,previsor_dtree))\n",
        "print(confusion_matrix(y_test,previsor_dtree))\n",
        "print('\\n')\n",
        "print('Accuracy:',np.round(accuracy_score(y_test,previsor_dtree),3)*100,'%')"
      ]
    },
    {
      "cell_type": "markdown",
      "metadata": {
        "id": "tQJdaSQ6ZcQ5"
      },
      "source": [
        "### Random Forest"
      ]
    },
    {
      "cell_type": "code",
      "execution_count": 91,
      "metadata": {
        "id": "QbGlXO-hZmXA"
      },
      "outputs": [],
      "source": [
        "rfc = RandomForestClassifier(n_estimators=500)"
      ]
    },
    {
      "cell_type": "code",
      "execution_count": 92,
      "metadata": {
        "id": "E76h8ItdZsRs"
      },
      "outputs": [],
      "source": [
        "rfc.fit(X_train,y_train)\n",
        "# storing the trained model as a pickel file\n",
        "with open(\"randomForest.pkl\",\"wb\") as f:\n",
        "  pickle.dump(rfc, f)"
      ]
    },
    {
      "cell_type": "code",
      "execution_count": 93,
      "metadata": {
        "id": "CpyuM4BeZuE8"
      },
      "outputs": [],
      "source": [
        "previsor_rfc = rfc.predict(X_test)"
      ]
    },
    {
      "cell_type": "code",
      "execution_count": 94,
      "metadata": {
        "colab": {
          "base_uri": "https://localhost:8080/"
        },
        "id": "oH2DOMhOZ0Z5",
        "outputId": "c0270a98-4eb0-4878-c9a9-6a6cc1aa2510"
      },
      "outputs": [
        {
          "name": "stdout",
          "output_type": "stream",
          "text": [
            "              precision    recall  f1-score   support\n",
            "\n",
            "          No       0.88      0.95      0.91       104\n",
            "         Yes       0.38      0.18      0.24        17\n",
            "\n",
            "    accuracy                           0.84       121\n",
            "   macro avg       0.63      0.56      0.58       121\n",
            "weighted avg       0.81      0.84      0.82       121\n",
            "\n",
            "[[99  5]\n",
            " [14  3]]\n",
            "\n",
            "\n",
            "Acurácia: 84.3 %\n"
          ]
        }
      ],
      "source": [
        "print(classification_report(y_test,previsor_rfc))\n",
        "print(confusion_matrix(y_test,previsor_rfc))\n",
        "print('\\n')\n",
        "print('Acurácia:',np.round(accuracy_score(y_test,previsor_rfc),3)*100,'%')"
      ]
    },
    {
      "cell_type": "markdown",
      "metadata": {
        "id": "jFUS6YbaaBon"
      },
      "source": [
        "### Support Vector Machine"
      ]
    },
    {
      "cell_type": "code",
      "execution_count": 53,
      "metadata": {
        "id": "oj1hFVtcaJBh"
      },
      "outputs": [],
      "source": [
        "svc = SVC()"
      ]
    },
    {
      "cell_type": "code",
      "execution_count": 54,
      "metadata": {
        "id": "QiWxNSQ7aPKx"
      },
      "outputs": [],
      "source": [
        "svc.fit(X_train, y_train)\n",
        "# storing the trained model as a pickel file\n",
        "with open(\"svm.pkl\",\"wb\") as f:\n",
        "  pickle.dump(svc, f)"
      ]
    },
    {
      "cell_type": "code",
      "execution_count": 55,
      "metadata": {
        "id": "-x5cYV8zaRqk"
      },
      "outputs": [],
      "source": [
        "previsor_svc = svc.predict(X_test)"
      ]
    },
    {
      "cell_type": "code",
      "execution_count": 56,
      "metadata": {
        "colab": {
          "base_uri": "https://localhost:8080/"
        },
        "id": "QpO6U54DaUMA",
        "outputId": "39ebf516-7ca2-4467-82d8-5f184fe76c96"
      },
      "outputs": [
        {
          "name": "stdout",
          "output_type": "stream",
          "text": [
            "              precision    recall  f1-score   support\n",
            "\n",
            "          No       0.88      0.99      0.93       104\n",
            "         Yes       0.75      0.18      0.29        17\n",
            "\n",
            "    accuracy                           0.88       121\n",
            "   macro avg       0.82      0.58      0.61       121\n",
            "weighted avg       0.86      0.88      0.84       121\n",
            "\n",
            "[[103   1]\n",
            " [ 14   3]]\n",
            "\n",
            "\n",
            "Accuracy: 87.6 %\n"
          ]
        }
      ],
      "source": [
        "print(classification_report(y_test,previsor_svc))\n",
        "print(confusion_matrix(y_test,previsor_svc))\n",
        "print('\\n')\n",
        "print('Accuracy:',np.round(accuracy_score(y_test,previsor_svc),3)*100,'%')"
      ]
    },
    {
      "cell_type": "markdown",
      "metadata": {
        "id": "x8qZPk_xakI5"
      },
      "source": [
        "### Logistic Regression"
      ]
    },
    {
      "cell_type": "code",
      "execution_count": 57,
      "metadata": {
        "id": "rRFkXpjjamhy"
      },
      "outputs": [],
      "source": [
        "LR = LogisticRegression()"
      ]
    },
    {
      "cell_type": "code",
      "execution_count": 58,
      "metadata": {
        "id": "HR3KpMVWapvK"
      },
      "outputs": [],
      "source": [
        "LR.fit(X_train,y_train)\n",
        "# storing the trained model as a pickel file\n",
        "with open(\"logistic.pkl\",\"wb\") as f:\n",
        "  pickle.dump(LR, f)"
      ]
    },
    {
      "cell_type": "code",
      "execution_count": 59,
      "metadata": {
        "id": "nIJpwCFras4x"
      },
      "outputs": [],
      "source": [
        "predict_LR = LR.predict(X_test)"
      ]
    },
    {
      "cell_type": "code",
      "execution_count": 60,
      "metadata": {
        "colab": {
          "base_uri": "https://localhost:8080/"
        },
        "id": "CE4hdLc5avJ8",
        "outputId": "4f9d0034-8436-44e5-e6cf-e6f4d490728f"
      },
      "outputs": [
        {
          "name": "stdout",
          "output_type": "stream",
          "text": [
            "              precision    recall  f1-score   support\n",
            "\n",
            "          No       0.87      0.99      0.93       104\n",
            "         Yes       0.67      0.12      0.20        17\n",
            "\n",
            "    accuracy                           0.87       121\n",
            "   macro avg       0.77      0.55      0.56       121\n",
            "weighted avg       0.84      0.87      0.83       121\n",
            "\n",
            "[[103   1]\n",
            " [ 15   2]]\n",
            "\n",
            "\n",
            "Accuracy: 86.8 %\n"
          ]
        }
      ],
      "source": [
        "print(classification_report(y_test,predict_LR))\n",
        "print(confusion_matrix(y_test,predict_LR))\n",
        "print('\\n')\n",
        "print('Accuracy:', np.round(accuracy_score(y_test,predict_LR),3)*100,'%')"
      ]
    },
    {
      "cell_type": "markdown",
      "metadata": {
        "id": "tPBrofNFa4_9"
      },
      "source": [
        "### Concluding the output from all algos"
      ]
    },
    {
      "cell_type": "code",
      "execution_count": 61,
      "metadata": {
        "id": "LIqmyflka0xh"
      },
      "outputs": [],
      "source": [
        "Accuracy_LR = np.round(accuracy_score(y_test,predict_LR),3) *100\n",
        "Accuracy_svc = np.round(accuracy_score(y_test,previsor_svc),3)*100\n",
        "Accuracy_rfc = np.round(accuracy_score(y_test,previsor_rfc),3)*100\n",
        "Accuracy_dtree = np.round(accuracy_score(y_test,previsor_dtree),3)*100"
      ]
    },
    {
      "cell_type": "code",
      "execution_count": 62,
      "metadata": {
        "colab": {
          "base_uri": "https://localhost:8080/"
        },
        "id": "BX6L2BG_bFvr",
        "outputId": "a4d5988e-b77f-46f6-d066-703a9e93abf0"
      },
      "outputs": [
        {
          "name": "stdout",
          "output_type": "stream",
          "text": [
            "Accuracy_Decision_tree:  81.0 %\n",
            "Accuracy_Random_Forest:  82.6 %\n",
            "Accuracy_LR:  86.8 %\n",
            "Accuracy_SVC:  87.6 %\n"
          ]
        }
      ],
      "source": [
        "print('Accuracy_Decision_tree: ',Accuracy_dtree,'%')\n",
        "print('Accuracy_Random_Forest: ', Accuracy_rfc,'%')\n",
        "print('Accuracy_LR: ', Accuracy_LR,'%')\n",
        "print('Accuracy_SVC: ', Accuracy_svc,'%')"
      ]
    },
    {
      "cell_type": "markdown",
      "metadata": {
        "id": "9gAjjMrtbNg7"
      },
      "source": [
        "# We then had a better assessment of our Logistic Regression and Support Vector Machine with an 86.8% chance of not raining with this information"
      ]
    },
    {
      "cell_type": "markdown",
      "metadata": {
        "id": "2uiZfAruY3S_"
      },
      "source": [
        "# Defining Functions to call the model and give the predicted value as output"
      ]
    },
    {
      "cell_type": "markdown",
      "metadata": {
        "id": "g85ehr1aZBLb"
      },
      "source": [
        "## Decision Tree"
      ]
    },
    {
      "cell_type": "markdown",
      "metadata": {
        "id": "OZug63YJaaij"
      },
      "source": [
        "Creating the function to open the pickle file and predict the output based upon the given inputs"
      ]
    },
    {
      "cell_type": "code",
      "execution_count": null,
      "metadata": {
        "id": "Kiqtsg9kZAIq"
      },
      "outputs": [],
      "source": [
        "def decisionTreePrediction(MinTemp, MaxTemp, Humidity9am, Humidity3pm, Temp9am, Temp3pm):\n",
        "  with open(\"decisionTree.pkl\", \"rb\") as f:\n",
        "    dTreeF = pickle.load(f);\n",
        "    preds = dTreeF.predict([[MinTemp, MaxTemp, Humidity9am, Humidity3pm, Temp9am, Temp3pm]])\n",
        "\n",
        "    if(preds == 1):\n",
        "      return \"Rain Tomorrow\"\n",
        "    else:\n",
        "      return \"No Rain Tomo\""
      ]
    },
    {
      "cell_type": "markdown",
      "metadata": {
        "id": "Lp5l17ohgPOW"
      },
      "source": [
        "## Random Forest"
      ]
    },
    {
      "cell_type": "markdown",
      "metadata": {
        "id": "ISJY3257gPOX"
      },
      "source": [
        "Creating the function to open the pickle file and predict the output based upon the given inputs"
      ]
    },
    {
      "cell_type": "code",
      "execution_count": null,
      "metadata": {
        "id": "UvyqB_zpgPOX"
      },
      "outputs": [],
      "source": [
        "def randomForestPrediction(MinTemp, MaxTemp, Humidity9am, Humidity3pm, Temp9am, Temp3pm):\n",
        "  with open(\"randomForest.pkl\", \"rb\") as f:\n",
        "    rfcF = pickle.load(f);\n",
        "    preds = rfcF.predict([[MinTemp, MaxTemp, Humidity9am, Humidity3pm, Temp9am, Temp3pm]])\n",
        "\n",
        "    if(preds == 1):\n",
        "      return \"Rain Tomorrow\"\n",
        "    else:\n",
        "      return \"No Rain Tomorrow\""
      ]
    },
    {
      "cell_type": "markdown",
      "metadata": {
        "id": "dDNRA72fgPb5"
      },
      "source": [
        "## Support Vector Machine"
      ]
    },
    {
      "cell_type": "markdown",
      "metadata": {
        "id": "vceZX75UgPb5"
      },
      "source": [
        "Creating the function to open the pickle file and predict the output based upon the given inputs"
      ]
    },
    {
      "cell_type": "code",
      "execution_count": null,
      "metadata": {
        "id": "LYq3bPbMgPb5"
      },
      "outputs": [],
      "source": [
        "def SVMPrediction(MinTemp, MaxTemp, Humidity9am, Humidity3pm, Temp9am, Temp3pm):\n",
        "  with open(\"svm.pkl\", \"rb\") as f:\n",
        "    svmF = pickle.load(f);\n",
        "    preds = svmF.predict([[MinTemp, MaxTemp, Humidity9am, Humidity3pm, Temp9am, Temp3pm]])\n",
        "\n",
        "    if(preds == 1):\n",
        "      return \"Rain Tomorrow\"\n",
        "    else:\n",
        "      return \"No Rain Tomorrow\""
      ]
    },
    {
      "cell_type": "markdown",
      "metadata": {
        "id": "cq8bBgGPgeoz"
      },
      "source": [
        "## Logistic Regression"
      ]
    },
    {
      "cell_type": "markdown",
      "metadata": {
        "id": "G7m5mNKGgeo0"
      },
      "source": [
        "Creating the function to open the pickle file and predict the output based upon the given inputs"
      ]
    },
    {
      "cell_type": "code",
      "execution_count": null,
      "metadata": {
        "id": "-UuB6izTgeo0"
      },
      "outputs": [],
      "source": [
        "def LRPrediction(MinTemp, MaxTemp, Humidity9am, Humidity3pm, Temp9am, Temp3pm):\n",
        "  with open(\"logistic.pkl\", \"rb\") as f:\n",
        "    LRF = pickle.load(f);\n",
        "    preds = LRF.predict([[MinTemp, MaxTemp, Humidity9am, Humidity3pm, Temp9am, Temp3pm]])\n",
        "\n",
        "    if(preds == 1):\n",
        "      return \"Rain Tomorrow\"\n",
        "    else:\n",
        "      return \"No Rain Tomorrow\""
      ]
    },
    {
      "cell_type": "markdown",
      "metadata": {
        "id": "baRcC-qiiFvP"
      },
      "source": [
        "#Creation of Web Interface"
      ]
    },
    {
      "cell_type": "markdown",
      "metadata": {
        "id": "XW6Ym-gFaj9a"
      },
      "source": [
        "## Generating the General Gradio Component to take input and give the *output*"
      ]
    },
    {
      "cell_type": "code",
      "execution_count": null,
      "metadata": {
        "id": "t1U77u4oaaIX"
      },
      "outputs": [],
      "source": [
        "MinTemp = gr.Number(label = \"Enter the Minimum Temp\")\n",
        "MaxTemp = gr.Number(label = \"Enter the Maximum Tenp\")\n",
        "Hum9Am = gr.Textbox(label = \"Enter Humidity at 9 am\")\n",
        "Hum3Pm = gr.Textbox(label = \"Enter Humidity at 3 pm\")\n",
        "Temp9Am = gr.Textbox(label = \"Enter Temperature at 9 am\")\n",
        "Temp3Pm = gr.Textbox(label = \"Enter Temperature at 3 pm\")\n",
        "output = gr.Textbox()"
      ]
    },
    {
      "cell_type": "markdown",
      "metadata": {
        "id": "H-aBld73gpnd"
      },
      "source": [
        "## Generating Web Interface for each model"
      ]
    },
    {
      "cell_type": "markdown",
      "metadata": {
        "id": "Wo3jYiP1gtf9"
      },
      "source": [
        "### Decision Tree"
      ]
    },
    {
      "cell_type": "code",
      "execution_count": null,
      "metadata": {
        "colab": {
          "base_uri": "https://localhost:8080/",
          "height": 643
        },
        "id": "Tl24XldpgtSt",
        "outputId": "9b87152f-789d-456d-8530-03faea27b58b"
      },
      "outputs": [
        {
          "name": "stdout",
          "output_type": "stream",
          "text": [
            "Colab notebook detected. To show errors in colab notebook, set `debug=True` in `launch()`\n",
            "Running on public URL: https://03fa608edfea09de.gradio.app\n",
            "\n",
            "This share link expires in 72 hours. For free permanent hosting and GPU upgrades (NEW!), check out Spaces: https://huggingface.co/spaces\n"
          ]
        },
        {
          "data": {
            "text/html": [
              "<div><iframe src=\"https://03fa608edfea09de.gradio.app\" width=\"900\" height=\"500\" allow=\"autoplay; camera; microphone; clipboard-read; clipboard-write;\" frameborder=\"0\" allowfullscreen></iframe></div>"
            ],
            "text/plain": [
              "<IPython.core.display.HTML object>"
            ]
          },
          "metadata": {},
          "output_type": "display_data"
        },
        {
          "data": {
            "text/plain": [
              "(<gradio.routes.App at 0x7f8321dc3590>,\n",
              " 'http://127.0.0.1:7871/',\n",
              " 'https://03fa608edfea09de.gradio.app')"
            ]
          },
          "execution_count": 139,
          "metadata": {},
          "output_type": "execute_result"
        }
      ],
      "source": [
        "appDecision = gr.Interface(fn = decisionTreePrediction, inputs=[MinTemp, MaxTemp, Hum9Am, Hum3Pm, Temp9Am, Temp3Pm], outputs=output)\n",
        "appDecision.launch()"
      ]
    },
    {
      "cell_type": "markdown",
      "metadata": {
        "id": "igwZOy0fhM-y"
      },
      "source": [
        "### Random Forest"
      ]
    },
    {
      "cell_type": "code",
      "execution_count": null,
      "metadata": {
        "colab": {
          "base_uri": "https://localhost:8080/",
          "height": 643
        },
        "id": "jk_PVrU7hM-z",
        "outputId": "0977db9f-513e-4361-c673-9acdfae55110"
      },
      "outputs": [
        {
          "name": "stdout",
          "output_type": "stream",
          "text": [
            "Colab notebook detected. To show errors in colab notebook, set `debug=True` in `launch()`\n",
            "Running on public URL: https://53ffadd4de9fb27b.gradio.app\n",
            "\n",
            "This share link expires in 72 hours. For free permanent hosting and GPU upgrades (NEW!), check out Spaces: https://huggingface.co/spaces\n"
          ]
        },
        {
          "data": {
            "text/html": [
              "<div><iframe src=\"https://53ffadd4de9fb27b.gradio.app\" width=\"900\" height=\"500\" allow=\"autoplay; camera; microphone; clipboard-read; clipboard-write;\" frameborder=\"0\" allowfullscreen></iframe></div>"
            ],
            "text/plain": [
              "<IPython.core.display.HTML object>"
            ]
          },
          "metadata": {},
          "output_type": "display_data"
        },
        {
          "data": {
            "text/plain": [
              "(<gradio.routes.App at 0x7f831cbb9090>,\n",
              " 'http://127.0.0.1:7872/',\n",
              " 'https://53ffadd4de9fb27b.gradio.app')"
            ]
          },
          "execution_count": 140,
          "metadata": {},
          "output_type": "execute_result"
        }
      ],
      "source": [
        "appRandomForest = gr.Interface(fn = randomForestPrediction, inputs=[MinTemp, MaxTemp, Hum9Am, Hum3Pm, Temp9Am, Temp3Pm], outputs=output)\n",
        "appRandomForest.launch()"
      ]
    },
    {
      "cell_type": "markdown",
      "metadata": {
        "id": "m2HEYLlZhNHt"
      },
      "source": [
        "### Support Vector Machine"
      ]
    },
    {
      "cell_type": "code",
      "execution_count": null,
      "metadata": {
        "colab": {
          "base_uri": "https://localhost:8080/"
        },
        "id": "Mbcw6oSwhNHu",
        "outputId": "39c19e54-a41e-49ce-d5d0-cbfec3b782d6"
      },
      "outputs": [
        {
          "name": "stdout",
          "output_type": "stream",
          "text": [
            "Colab notebook detected. To show errors in colab notebook, set `debug=True` in `launch()`\n",
            "Running on public URL: https://d2a0e523f2681ed2.gradio.app\n",
            "\n",
            "This share link expires in 72 hours. For free permanent hosting and GPU upgrades (NEW!), check out Spaces: https://huggingface.co/spaces\n"
          ]
        }
      ],
      "source": [
        "appSVM = gr.Interface(fn = SVMPrediction, inputs=[MinTemp, MaxTemp, Hum9Am, Hum3Pm, Temp9Am, Temp3Pm], outputs=output)\n",
        "appSVM.launch()"
      ]
    },
    {
      "cell_type": "markdown",
      "metadata": {
        "id": "PQkb09VyhNRA"
      },
      "source": [
        "### Logistic Regression"
      ]
    },
    {
      "cell_type": "code",
      "execution_count": null,
      "metadata": {
        "id": "lMisEfSQhNRB"
      },
      "outputs": [],
      "source": [
        "appLR = gr.Interface(fn = LRPrediction, inputs=[MinTemp, MaxTemp, Hum9Am, Hum3Pm, Temp9Am, Temp3Pm], outputs=output)\n",
        "appLR.launch()"
      ]
    }
  ],
  "metadata": {
    "colab": {
      "collapsed_sections": [
        "g85ehr1aZBLb",
        "Lp5l17ohgPOW",
        "dDNRA72fgPb5",
        "cq8bBgGPgeoz",
        "XW6Ym-gFaj9a",
        "H-aBld73gpnd",
        "Wo3jYiP1gtf9",
        "igwZOy0fhM-y",
        "m2HEYLlZhNHt",
        "PQkb09VyhNRA"
      ],
      "provenance": []
    },
    "kernelspec": {
      "display_name": "Python 3.9.12 ('base')",
      "language": "python",
      "name": "python3"
    },
    "language_info": {
      "name": "python",
      "version": "3.9.12"
    },
    "vscode": {
      "interpreter": {
        "hash": "865d8b2eb28e274047ba64063dfb6a2aabf0dfec4905d304d7a76618dae6fdd4"
      }
    }
  },
  "nbformat": 4,
  "nbformat_minor": 0
}
