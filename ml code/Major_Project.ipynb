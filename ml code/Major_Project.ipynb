{
  "cells": [
    {
      "cell_type": "markdown",
      "metadata": {
        "id": "1utJDbLR2PxI"
      },
      "source": [
        "#Importing libraries"
      ]
    },
    {
      "cell_type": "code",
      "execution_count": 544,
      "metadata": {
        "id": "nh0DiikpQoJf"
      },
      "outputs": [],
      "source": [
        "import numpy as np\n",
        "import pandas as pd\n",
        "import matplotlib.pyplot as plt\n",
        "import seaborn as sns\n",
        "%matplotlib inline\n",
        "\n",
        "# to handle missing data\n",
        "from sklearn.impute import KNNImputer\n",
        "from sklearn.impute import SimpleImputer\n",
        "\n",
        "# for handling categorical data\n",
        "from sklearn.preprocessing import LabelBinarizer \n",
        "from sklearn.preprocessing import LabelEncoder \n",
        "\n",
        "# for seperating testing and training data\n",
        "from sklearn.model_selection import train_test_split\n",
        "\n",
        "# scaling the dataset\n",
        "from sklearn.preprocessing import MinMaxScaler\n",
        "\n",
        "# decision tree\n",
        "from sklearn.tree import DecisionTreeClassifier\n",
        "\n",
        "# for confusion matrix\n",
        "from sklearn.metrics import accuracy_score,confusion_matrix,classification_report\n",
        "\n",
        "# for random forest\n",
        "from sklearn.ensemble import RandomForestClassifier\n",
        "\n",
        "# for Support Vector Machine\n",
        "from sklearn.svm import SVC\n",
        "\n",
        "# for Logistic Regression\n",
        "from sklearn.linear_model import LogisticRegression\n",
        "\n",
        "# for storing the trained model as a pickle file\n",
        "import pickle\n",
        "\n",
        "# to shuffle the input data\n",
        "from sklearn.utils import shuffle\n",
        "\n"
      ]
    },
    {
      "cell_type": "markdown",
      "metadata": {
        "id": "JEKpxtk72mJP"
      },
      "source": [
        "#Functions to imporve visualization"
      ]
    },
    {
      "cell_type": "code",
      "execution_count": 545,
      "metadata": {
        "id": "3HPCCKJd2sFO"
      },
      "outputs": [],
      "source": [
        "def resizePlot():\n",
        "  plt.figure(figsize=(12,6))"
      ]
    },
    {
      "cell_type": "code",
      "execution_count": 546,
      "metadata": {
        "id": "EVuI1UHx20Tx"
      },
      "outputs": [],
      "source": [
        "def resizecolor():\n",
        "  plt.figure(figsize=(15,7))"
      ]
    },
    {
      "cell_type": "markdown",
      "metadata": {
        "id": "KqDNhb4B258I"
      },
      "source": [
        "# Loading the dataset"
      ]
    },
    {
      "cell_type": "code",
      "execution_count": 547,
      "metadata": {
        "id": "7TxSd4Ab27sR"
      },
      "outputs": [],
      "source": [
        "df = pd.read_csv(\"/content/Book2.csv\")"
      ]
    },
    {
      "cell_type": "code",
      "execution_count": 548,
      "metadata": {
        "colab": {
          "base_uri": "https://localhost:8080/",
          "height": 206
        },
        "id": "Ayy83qms3IpZ",
        "outputId": "c1c1ce58-ab5d-43b3-eb99-bbc0fd75ec9d"
      },
      "outputs": [
        {
          "data": {
            "text/html": [
              "\n",
              "  <div id=\"df-38bda924-4eea-484d-8c41-5887b5655c0f\">\n",
              "    <div class=\"colab-df-container\">\n",
              "      <div>\n",
              "<style scoped>\n",
              "    .dataframe tbody tr th:only-of-type {\n",
              "        vertical-align: middle;\n",
              "    }\n",
              "\n",
              "    .dataframe tbody tr th {\n",
              "        vertical-align: top;\n",
              "    }\n",
              "\n",
              "    .dataframe thead th {\n",
              "        text-align: right;\n",
              "    }\n",
              "</style>\n",
              "<table border=\"1\" class=\"dataframe\">\n",
              "  <thead>\n",
              "    <tr style=\"text-align: right;\">\n",
              "      <th></th>\n",
              "      <th>Humidity</th>\n",
              "      <th>Temperature</th>\n",
              "      <th>RainToday</th>\n",
              "    </tr>\n",
              "  </thead>\n",
              "  <tbody>\n",
              "    <tr>\n",
              "      <th>0</th>\n",
              "      <td>75.4</td>\n",
              "      <td>25.2</td>\n",
              "      <td>No</td>\n",
              "    </tr>\n",
              "    <tr>\n",
              "      <th>1</th>\n",
              "      <td>26.2</td>\n",
              "      <td>78.6</td>\n",
              "      <td>No</td>\n",
              "    </tr>\n",
              "    <tr>\n",
              "      <th>2</th>\n",
              "      <td>69.6</td>\n",
              "      <td>25.7</td>\n",
              "      <td>No</td>\n",
              "    </tr>\n",
              "    <tr>\n",
              "      <th>3</th>\n",
              "      <td>77.5</td>\n",
              "      <td>25.4</td>\n",
              "      <td>No</td>\n",
              "    </tr>\n",
              "    <tr>\n",
              "      <th>4</th>\n",
              "      <td>61.8</td>\n",
              "      <td>27.3</td>\n",
              "      <td>No</td>\n",
              "    </tr>\n",
              "  </tbody>\n",
              "</table>\n",
              "</div>\n",
              "      <button class=\"colab-df-convert\" onclick=\"convertToInteractive('df-38bda924-4eea-484d-8c41-5887b5655c0f')\"\n",
              "              title=\"Convert this dataframe to an interactive table.\"\n",
              "              style=\"display:none;\">\n",
              "        \n",
              "  <svg xmlns=\"http://www.w3.org/2000/svg\" height=\"24px\"viewBox=\"0 0 24 24\"\n",
              "       width=\"24px\">\n",
              "    <path d=\"M0 0h24v24H0V0z\" fill=\"none\"/>\n",
              "    <path d=\"M18.56 5.44l.94 2.06.94-2.06 2.06-.94-2.06-.94-.94-2.06-.94 2.06-2.06.94zm-11 1L8.5 8.5l.94-2.06 2.06-.94-2.06-.94L8.5 2.5l-.94 2.06-2.06.94zm10 10l.94 2.06.94-2.06 2.06-.94-2.06-.94-.94-2.06-.94 2.06-2.06.94z\"/><path d=\"M17.41 7.96l-1.37-1.37c-.4-.4-.92-.59-1.43-.59-.52 0-1.04.2-1.43.59L10.3 9.45l-7.72 7.72c-.78.78-.78 2.05 0 2.83L4 21.41c.39.39.9.59 1.41.59.51 0 1.02-.2 1.41-.59l7.78-7.78 2.81-2.81c.8-.78.8-2.07 0-2.86zM5.41 20L4 18.59l7.72-7.72 1.47 1.35L5.41 20z\"/>\n",
              "  </svg>\n",
              "      </button>\n",
              "      \n",
              "  <style>\n",
              "    .colab-df-container {\n",
              "      display:flex;\n",
              "      flex-wrap:wrap;\n",
              "      gap: 12px;\n",
              "    }\n",
              "\n",
              "    .colab-df-convert {\n",
              "      background-color: #E8F0FE;\n",
              "      border: none;\n",
              "      border-radius: 50%;\n",
              "      cursor: pointer;\n",
              "      display: none;\n",
              "      fill: #1967D2;\n",
              "      height: 32px;\n",
              "      padding: 0 0 0 0;\n",
              "      width: 32px;\n",
              "    }\n",
              "\n",
              "    .colab-df-convert:hover {\n",
              "      background-color: #E2EBFA;\n",
              "      box-shadow: 0px 1px 2px rgba(60, 64, 67, 0.3), 0px 1px 3px 1px rgba(60, 64, 67, 0.15);\n",
              "      fill: #174EA6;\n",
              "    }\n",
              "\n",
              "    [theme=dark] .colab-df-convert {\n",
              "      background-color: #3B4455;\n",
              "      fill: #D2E3FC;\n",
              "    }\n",
              "\n",
              "    [theme=dark] .colab-df-convert:hover {\n",
              "      background-color: #434B5C;\n",
              "      box-shadow: 0px 1px 3px 1px rgba(0, 0, 0, 0.15);\n",
              "      filter: drop-shadow(0px 1px 2px rgba(0, 0, 0, 0.3));\n",
              "      fill: #FFFFFF;\n",
              "    }\n",
              "  </style>\n",
              "\n",
              "      <script>\n",
              "        const buttonEl =\n",
              "          document.querySelector('#df-38bda924-4eea-484d-8c41-5887b5655c0f button.colab-df-convert');\n",
              "        buttonEl.style.display =\n",
              "          google.colab.kernel.accessAllowed ? 'block' : 'none';\n",
              "\n",
              "        async function convertToInteractive(key) {\n",
              "          const element = document.querySelector('#df-38bda924-4eea-484d-8c41-5887b5655c0f');\n",
              "          const dataTable =\n",
              "            await google.colab.kernel.invokeFunction('convertToInteractive',\n",
              "                                                     [key], {});\n",
              "          if (!dataTable) return;\n",
              "\n",
              "          const docLinkHtml = 'Like what you see? Visit the ' +\n",
              "            '<a target=\"_blank\" href=https://colab.research.google.com/notebooks/data_table.ipynb>data table notebook</a>'\n",
              "            + ' to learn more about interactive tables.';\n",
              "          element.innerHTML = '';\n",
              "          dataTable['output_type'] = 'display_data';\n",
              "          await google.colab.output.renderOutput(dataTable, element);\n",
              "          const docLink = document.createElement('div');\n",
              "          docLink.innerHTML = docLinkHtml;\n",
              "          element.appendChild(docLink);\n",
              "        }\n",
              "      </script>\n",
              "    </div>\n",
              "  </div>\n",
              "  "
            ],
            "text/plain": [
              "   Humidity  Temperature RainToday\n",
              "0      75.4         25.2        No\n",
              "1      26.2         78.6        No\n",
              "2      69.6         25.7        No\n",
              "3      77.5         25.4        No\n",
              "4      61.8         27.3        No"
            ]
          },
          "execution_count": 548,
          "metadata": {},
          "output_type": "execute_result"
        }
      ],
      "source": [
        "df.head()"
      ]
    },
    {
      "cell_type": "markdown",
      "metadata": {
        "id": "rJc4o8QtXLc5"
      },
      "source": [
        "# Handling Missing data"
      ]
    },
    {
      "cell_type": "markdown",
      "metadata": {
        "id": "W8N7HT273TDu"
      },
      "source": [
        "## Checking the existence of missing data"
      ]
    },
    {
      "cell_type": "code",
      "execution_count": 549,
      "metadata": {
        "colab": {
          "base_uri": "https://localhost:8080/"
        },
        "id": "o-Kjybc-3XOv",
        "outputId": "740867d0-a770-4e3a-a5b5-234c8a74351c"
      },
      "outputs": [
        {
          "data": {
            "text/plain": [
              "Humidity       0\n",
              "Temperature    0\n",
              "RainToday      0\n",
              "dtype: int64"
            ]
          },
          "execution_count": 549,
          "metadata": {},
          "output_type": "execute_result"
        }
      ],
      "source": [
        "df.isnull().sum()"
      ]
    },
    {
      "cell_type": "markdown",
      "metadata": {
        "id": "2MN_jV2y3g64"
      },
      "source": [
        "## Visualizing missing data"
      ]
    },
    {
      "cell_type": "code",
      "execution_count": 550,
      "metadata": {
        "colab": {
          "base_uri": "https://localhost:8080/",
          "height": 391
        },
        "id": "bVEqJZ_z3fR_",
        "outputId": "dff72cac-0750-4317-fdd7-258ec28ddd15"
      },
      "outputs": [
        {
          "data": {
            "text/plain": [
              "<matplotlib.axes._subplots.AxesSubplot at 0x7f2482c27110>"
            ]
          },
          "execution_count": 550,
          "metadata": {},
          "output_type": "execute_result"
        },
        {
          "data": {
            "image/png": "[encoded data removed]",
            "text/plain": [
              "<Figure size 864x432 with 1 Axes>"
            ]
          },
          "metadata": {
            "needs_background": "light"
          },
          "output_type": "display_data"
        }
      ],
      "source": [
        "resizePlot()\n",
        "sns.heatmap(df.isnull(), yticklabels=False, cbar=False, cmap='viridis')"
      ]
    },
    {
      "cell_type": "markdown",
      "metadata": {
        "id": "fnnZSsiRU0d7"
      },
      "source": [
        "# Finding the correlation bw variables and their dependency and drawing conclusions"
      ]
    },
    {
      "cell_type": "markdown",
      "metadata": {
        "id": "ZV08bC5T7QgE"
      },
      "source": [
        "**Plotting same graph as above for Humidity & Temperature**"
      ]
    },
    {
      "cell_type": "code",
      "execution_count": 553,
      "metadata": {
        "colab": {
          "base_uri": "https://localhost:8080/",
          "height": 386
        },
        "id": "678vvfG17NAo",
        "outputId": "a721a2db-512c-4597-cadd-1f4f9e606a51"
      },
      "outputs": [
        {
          "data": {
            "text/plain": [
              "<seaborn.axisgrid.FacetGrid at 0x7f2481624d90>"
            ]
          },
          "execution_count": 553,
          "metadata": {},
          "output_type": "execute_result"
        },
        {
          "data": {
            "image/png": "[encoded data removed]",
            "text/plain": [
              "<Figure size 360x360 with 1 Axes>"
            ]
          },
          "metadata": {
            "needs_background": "light"
          },
          "output_type": "display_data"
        }
      ],
      "source": [
        "sns.relplot(x='Humidity', y='Temperature', data = df)"
      ]
    },
    {
      "cell_type": "markdown",
      "metadata": {
        "id": "OeEmWqq9VoMB"
      },
      "source": [
        "# Converting Categorical Data to Numeric Data"
      ]
    },
    {
      "cell_type": "code",
      "execution_count": 554,
      "metadata": {
        "id": "8NCQdJA0WiVO"
      },
      "outputs": [],
      "source": [
        "le = LabelEncoder()"
      ]
    },
    {
      "cell_type": "code",
      "execution_count": 555,
      "metadata": {
        "id": "ol31cB5uWlIA"
      },
      "outputs": [],
      "source": [
        "df['RainToday'] = le.fit_transform(df['RainToday'])"
      ]
    },
    {
      "cell_type": "code",
      "execution_count": 556,
      "metadata": {
        "colab": {
          "base_uri": "https://localhost:8080/",
          "height": 206
        },
        "id": "lG4baFWkWpMC",
        "outputId": "11d43f00-4f04-445e-d35e-4a15e5e72c98"
      },
      "outputs": [
        {
          "data": {
            "text/html": [
              "\n",
              "  <div id=\"df-3111f309-be37-48b2-bcaa-74bc7475fa38\">\n",
              "    <div class=\"colab-df-container\">\n",
              "      <div>\n",
              "<style scoped>\n",
              "    .dataframe tbody tr th:only-of-type {\n",
              "        vertical-align: middle;\n",
              "    }\n",
              "\n",
              "    .dataframe tbody tr th {\n",
              "        vertical-align: top;\n",
              "    }\n",
              "\n",
              "    .dataframe thead th {\n",
              "        text-align: right;\n",
              "    }\n",
              "</style>\n",
              "<table border=\"1\" class=\"dataframe\">\n",
              "  <thead>\n",
              "    <tr style=\"text-align: right;\">\n",
              "      <th></th>\n",
              "      <th>Humidity</th>\n",
              "      <th>Temperature</th>\n",
              "      <th>RainToday</th>\n",
              "    </tr>\n",
              "  </thead>\n",
              "  <tbody>\n",
              "    <tr>\n",
              "      <th>0</th>\n",
              "      <td>75.4</td>\n",
              "      <td>25.2</td>\n",
              "      <td>0</td>\n",
              "    </tr>\n",
              "    <tr>\n",
              "      <th>1</th>\n",
              "      <td>26.2</td>\n",
              "      <td>78.6</td>\n",
              "      <td>0</td>\n",
              "    </tr>\n",
              "    <tr>\n",
              "      <th>2</th>\n",
              "      <td>69.6</td>\n",
              "      <td>25.7</td>\n",
              "      <td>0</td>\n",
              "    </tr>\n",
              "    <tr>\n",
              "      <th>3</th>\n",
              "      <td>77.5</td>\n",
              "      <td>25.4</td>\n",
              "      <td>0</td>\n",
              "    </tr>\n",
              "    <tr>\n",
              "      <th>4</th>\n",
              "      <td>61.8</td>\n",
              "      <td>27.3</td>\n",
              "      <td>0</td>\n",
              "    </tr>\n",
              "  </tbody>\n",
              "</table>\n",
              "</div>\n",
              "      <button class=\"colab-df-convert\" onclick=\"convertToInteractive('df-3111f309-be37-48b2-bcaa-74bc7475fa38')\"\n",
              "              title=\"Convert this dataframe to an interactive table.\"\n",
              "              style=\"display:none;\">\n",
              "        \n",
              "  <svg xmlns=\"http://www.w3.org/2000/svg\" height=\"24px\"viewBox=\"0 0 24 24\"\n",
              "       width=\"24px\">\n",
              "    <path d=\"M0 0h24v24H0V0z\" fill=\"none\"/>\n",
              "    <path d=\"M18.56 5.44l.94 2.06.94-2.06 2.06-.94-2.06-.94-.94-2.06-.94 2.06-2.06.94zm-11 1L8.5 8.5l.94-2.06 2.06-.94-2.06-.94L8.5 2.5l-.94 2.06-2.06.94zm10 10l.94 2.06.94-2.06 2.06-.94-2.06-.94-.94-2.06-.94 2.06-2.06.94z\"/><path d=\"M17.41 7.96l-1.37-1.37c-.4-.4-.92-.59-1.43-.59-.52 0-1.04.2-1.43.59L10.3 9.45l-7.72 7.72c-.78.78-.78 2.05 0 2.83L4 21.41c.39.39.9.59 1.41.59.51 0 1.02-.2 1.41-.59l7.78-7.78 2.81-2.81c.8-.78.8-2.07 0-2.86zM5.41 20L4 18.59l7.72-7.72 1.47 1.35L5.41 20z\"/>\n",
              "  </svg>\n",
              "      </button>\n",
              "      \n",
              "  <style>\n",
              "    .colab-df-container {\n",
              "      display:flex;\n",
              "      flex-wrap:wrap;\n",
              "      gap: 12px;\n",
              "    }\n",
              "\n",
              "    .colab-df-convert {\n",
              "      background-color: #E8F0FE;\n",
              "      border: none;\n",
              "      border-radius: 50%;\n",
              "      cursor: pointer;\n",
              "      display: none;\n",
              "      fill: #1967D2;\n",
              "      height: 32px;\n",
              "      padding: 0 0 0 0;\n",
              "      width: 32px;\n",
              "    }\n",
              "\n",
              "    .colab-df-convert:hover {\n",
              "      background-color: #E2EBFA;\n",
              "      box-shadow: 0px 1px 2px rgba(60, 64, 67, 0.3), 0px 1px 3px 1px rgba(60, 64, 67, 0.15);\n",
              "      fill: #174EA6;\n",
              "    }\n",
              "\n",
              "    [theme=dark] .colab-df-convert {\n",
              "      background-color: #3B4455;\n",
              "      fill: #D2E3FC;\n",
              "    }\n",
              "\n",
              "    [theme=dark] .colab-df-convert:hover {\n",
              "      background-color: #434B5C;\n",
              "      box-shadow: 0px 1px 3px 1px rgba(0, 0, 0, 0.15);\n",
              "      filter: drop-shadow(0px 1px 2px rgba(0, 0, 0, 0.3));\n",
              "      fill: #FFFFFF;\n",
              "    }\n",
              "  </style>\n",
              "\n",
              "      <script>\n",
              "        const buttonEl =\n",
              "          document.querySelector('#df-3111f309-be37-48b2-bcaa-74bc7475fa38 button.colab-df-convert');\n",
              "        buttonEl.style.display =\n",
              "          google.colab.kernel.accessAllowed ? 'block' : 'none';\n",
              "\n",
              "        async function convertToInteractive(key) {\n",
              "          const element = document.querySelector('#df-3111f309-be37-48b2-bcaa-74bc7475fa38');\n",
              "          const dataTable =\n",
              "            await google.colab.kernel.invokeFunction('convertToInteractive',\n",
              "                                                     [key], {});\n",
              "          if (!dataTable) return;\n",
              "\n",
              "          const docLinkHtml = 'Like what you see? Visit the ' +\n",
              "            '<a target=\"_blank\" href=https://colab.research.google.com/notebooks/data_table.ipynb>data table notebook</a>'\n",
              "            + ' to learn more about interactive tables.';\n",
              "          element.innerHTML = '';\n",
              "          dataTable['output_type'] = 'display_data';\n",
              "          await google.colab.output.renderOutput(dataTable, element);\n",
              "          const docLink = document.createElement('div');\n",
              "          docLink.innerHTML = docLinkHtml;\n",
              "          element.appendChild(docLink);\n",
              "        }\n",
              "      </script>\n",
              "    </div>\n",
              "  </div>\n",
              "  "
            ],
            "text/plain": [
              "   Humidity  Temperature  RainToday\n",
              "0      75.4         25.2          0\n",
              "1      26.2         78.6          0\n",
              "2      69.6         25.7          0\n",
              "3      77.5         25.4          0\n",
              "4      61.8         27.3          0"
            ]
          },
          "execution_count": 556,
          "metadata": {},
          "output_type": "execute_result"
        }
      ],
      "source": [
        "df.head()"
      ]
    },
    {
      "cell_type": "markdown",
      "metadata": {
        "id": "exVaI8pGXrUg"
      },
      "source": [
        "# Training and Testing of ml algo"
      ]
    },
    {
      "cell_type": "markdown",
      "metadata": {
        "id": "WWmtq2feWttb"
      },
      "source": [
        "**Splitting the input and output variables**"
      ]
    },
    {
      "cell_type": "code",
      "execution_count": 557,
      "metadata": {
        "id": "gmIhMELyWxrb"
      },
      "outputs": [],
      "source": [
        "x = df.drop('RainToday',axis=1).values\n",
        "y = df['RainToday'].values\n",
        "x,y = shuffle(x, y)"
      ]
    },
    {
      "cell_type": "markdown",
      "metadata": {
        "id": "7KnYQJ9iYLC8"
      },
      "source": [
        "**Seperating the training and testing data**"
      ]
    },
    {
      "cell_type": "code",
      "execution_count": 558,
      "metadata": {
        "id": "KujrnssLYQH_"
      },
      "outputs": [],
      "source": [
        "X_train, X_test, y_train, y_test = train_test_split(x, y, test_size=0.33, random_state=101)"
      ]
    },
    {
      "cell_type": "markdown",
      "metadata": {
        "id": "cmBGX6bQYgta"
      },
      "source": [
        "## Applying Algorithms"
      ]
    },
    {
      "cell_type": "markdown",
      "metadata": {
        "id": "RCL8p093Yzz2"
      },
      "source": [
        "### Decision Tree"
      ]
    },
    {
      "cell_type": "code",
      "execution_count": 559,
      "metadata": {
        "id": "GQOLrs2kYtAi"
      },
      "outputs": [],
      "source": [
        "dtree = DecisionTreeClassifier()"
      ]
    },
    {
      "cell_type": "code",
      "execution_count": 560,
      "metadata": {
        "id": "Fz1IuOPuZDRe"
      },
      "outputs": [],
      "source": [
        "dtree.fit(X_train,y_train)\n",
        "\n",
        "# storing the trained model as a pickel file\n",
        "with open(\"decisionTree.pkl\",\"wb\") as f:\n",
        "  pickle.dump(dtree, f)\n"
      ]
    },
    {
      "cell_type": "code",
      "execution_count": 561,
      "metadata": {
        "id": "zf76NaHgZFvv"
      },
      "outputs": [],
      "source": [
        "previsor_dtree = dtree.predict(X_test)"
      ]
    },
    {
      "cell_type": "code",
      "execution_count": 562,
      "metadata": {
        "colab": {
          "base_uri": "https://localhost:8080/"
        },
        "id": "1osEt4haZSuC",
        "outputId": "9f4a47de-feba-4449-9c69-bdb064403640"
      },
      "outputs": [
        {
          "name": "stdout",
          "output_type": "stream",
          "text": [
            "              precision    recall  f1-score   support\n",
            "\n",
            "           0       0.86      0.82      0.84       102\n",
            "           1       0.28      0.33      0.30        21\n",
            "\n",
            "    accuracy                           0.74       123\n",
            "   macro avg       0.57      0.58      0.57       123\n",
            "weighted avg       0.76      0.74      0.75       123\n",
            "\n",
            "[[84 18]\n",
            " [14  7]]\n",
            "\n",
            "\n",
            "Accuracy: 74.0 %\n"
          ]
        }
      ],
      "source": [
        "print(classification_report(y_test,previsor_dtree))\n",
        "print(confusion_matrix(y_test,previsor_dtree))\n",
        "print('\\n')\n",
        "print('Accuracy:',np.round(accuracy_score(y_test,previsor_dtree),3)*100,'%')"
      ]
    },
    {
      "cell_type": "markdown",
      "metadata": {
        "id": "tQJdaSQ6ZcQ5"
      },
      "source": [
        "### Random Forest"
      ]
    },
    {
      "cell_type": "code",
      "execution_count": 563,
      "metadata": {
        "id": "QbGlXO-hZmXA"
      },
      "outputs": [],
      "source": [
        "rfc = RandomForestClassifier()"
      ]
    },
    {
      "cell_type": "code",
      "execution_count": 564,
      "metadata": {
        "id": "E76h8ItdZsRs"
      },
      "outputs": [],
      "source": [
        "rfc.fit(X_train,y_train)\n",
        "# storing the trained model as a pickel file\n",
        "with open(\"randomForest.pkl\",\"wb\") as f:\n",
        "  pickle.dump(rfc, f)"
      ]
    },
    {
      "cell_type": "code",
      "execution_count": 565,
      "metadata": {
        "id": "NryhXeAM5RQ5"
      },
      "outputs": [],
      "source": [
        "previsor_rfc = rfc.predict(X_test)"
      ]
    },
    {
      "cell_type": "code",
      "execution_count": 566,
      "metadata": {
        "colab": {
          "base_uri": "https://localhost:8080/"
        },
        "id": "oH2DOMhOZ0Z5",
        "outputId": "131d1dd7-46f6-4b1b-ea3d-d0c8c27c9ecd"
      },
      "outputs": [
        {
          "name": "stdout",
          "output_type": "stream",
          "text": [
            "              precision    recall  f1-score   support\n",
            "\n",
            "           0       0.85      0.91      0.88       102\n",
            "           1       0.36      0.24      0.29        21\n",
            "\n",
            "    accuracy                           0.80       123\n",
            "   macro avg       0.61      0.57      0.58       123\n",
            "weighted avg       0.77      0.80      0.78       123\n",
            "\n",
            "[[93  9]\n",
            " [16  5]]\n",
            "\n",
            "\n",
            "Acurácia: 79.7 %\n"
          ]
        }
      ],
      "source": [
        "print(classification_report(y_test,previsor_rfc))\n",
        "print(confusion_matrix(y_test,previsor_rfc))\n",
        "print('\\n')\n",
        "print('Acurácia:',np.round(accuracy_score(y_test,previsor_rfc),3)*100,'%')"
      ]
    },
    {
      "cell_type": "markdown",
      "metadata": {
        "id": "jFUS6YbaaBon"
      },
      "source": [
        "### Support Vector Machine"
      ]
    },
    {
      "cell_type": "code",
      "execution_count": 567,
      "metadata": {
        "id": "oj1hFVtcaJBh"
      },
      "outputs": [],
      "source": [
        "svc = SVC()"
      ]
    },
    {
      "cell_type": "code",
      "execution_count": 568,
      "metadata": {
        "id": "QiWxNSQ7aPKx"
      },
      "outputs": [],
      "source": [
        "svc.fit(X_train, y_train)\n",
        "# storing the trained model as a pickel file\n",
        "with open(\"svm.pkl\",\"wb\") as f:\n",
        "  pickle.dump(svc, f)"
      ]
    },
    {
      "cell_type": "code",
      "execution_count": 569,
      "metadata": {
        "id": "-x5cYV8zaRqk"
      },
      "outputs": [],
      "source": [
        "previsor_svc = svc.predict(X_test)"
      ]
    },
    {
      "cell_type": "code",
      "execution_count": 570,
      "metadata": {
        "colab": {
          "base_uri": "https://localhost:8080/"
        },
        "id": "QpO6U54DaUMA",
        "outputId": "450f8a9e-9402-4bd9-e950-490e8c4f8722"
      },
      "outputs": [
        {
          "name": "stdout",
          "output_type": "stream",
          "text": [
            "              precision    recall  f1-score   support\n",
            "\n",
            "           0       0.83      1.00      0.91       102\n",
            "           1       0.00      0.00      0.00        21\n",
            "\n",
            "    accuracy                           0.83       123\n",
            "   macro avg       0.41      0.50      0.45       123\n",
            "weighted avg       0.69      0.83      0.75       123\n",
            "\n",
            "[[102   0]\n",
            " [ 21   0]]\n",
            "\n",
            "\n",
            "Accuracy: 82.89999999999999 %\n"
          ]
        },
        {
          "name": "stderr",
          "output_type": "stream",
          "text": [
            "/usr/local/lib/python3.7/dist-packages/sklearn/metrics/_classification.py:1318: UndefinedMetricWarning: Precision and F-score are ill-defined and being set to 0.0 in labels with no predicted samples. Use `zero_division` parameter to control this behavior.\n",
            "  _warn_prf(average, modifier, msg_start, len(result))\n",
            "/usr/local/lib/python3.7/dist-packages/sklearn/metrics/_classification.py:1318: UndefinedMetricWarning: Precision and F-score are ill-defined and being set to 0.0 in labels with no predicted samples. Use `zero_division` parameter to control this behavior.\n",
            "  _warn_prf(average, modifier, msg_start, len(result))\n",
            "/usr/local/lib/python3.7/dist-packages/sklearn/metrics/_classification.py:1318: UndefinedMetricWarning: Precision and F-score are ill-defined and being set to 0.0 in labels with no predicted samples. Use `zero_division` parameter to control this behavior.\n",
            "  _warn_prf(average, modifier, msg_start, len(result))\n"
          ]
        }
      ],
      "source": [
        "print(classification_report(y_test,previsor_svc))\n",
        "print(confusion_matrix(y_test,previsor_svc))\n",
        "print('\\n')\n",
        "print('Accuracy:',np.round(accuracy_score(y_test,previsor_svc),3)*100,'%')"
      ]
    },
    {
      "cell_type": "markdown",
      "metadata": {
        "id": "x8qZPk_xakI5"
      },
      "source": [
        "### Logistic Regression"
      ]
    },
    {
      "cell_type": "code",
      "execution_count": 571,
      "metadata": {
        "id": "rRFkXpjjamhy"
      },
      "outputs": [],
      "source": [
        "LR = LogisticRegression()"
      ]
    },
    {
      "cell_type": "code",
      "execution_count": 572,
      "metadata": {
        "id": "HR3KpMVWapvK"
      },
      "outputs": [],
      "source": [
        "LR.fit(X_train,y_train)\n",
        "# storing the trained model as a pickel file\n",
        "with open(\"logistic.pkl\",\"wb\") as f:\n",
        "  pickle.dump(LR, f)"
      ]
    },
    {
      "cell_type": "code",
      "execution_count": 573,
      "metadata": {
        "id": "nIJpwCFras4x"
      },
      "outputs": [],
      "source": [
        "predict_LR = LR.predict(X_test)"
      ]
    },
    {
      "cell_type": "code",
      "execution_count": 574,
      "metadata": {
        "colab": {
          "base_uri": "https://localhost:8080/"
        },
        "id": "CE4hdLc5avJ8",
        "outputId": "1a0cca69-869b-45c3-f6c0-1262dc51ff8f"
      },
      "outputs": [
        {
          "name": "stdout",
          "output_type": "stream",
          "text": [
            "              precision    recall  f1-score   support\n",
            "\n",
            "           0       0.84      0.95      0.89       102\n",
            "           1       0.38      0.14      0.21        21\n",
            "\n",
            "    accuracy                           0.81       123\n",
            "   macro avg       0.61      0.55      0.55       123\n",
            "weighted avg       0.76      0.81      0.78       123\n",
            "\n",
            "[[97  5]\n",
            " [18  3]]\n",
            "\n",
            "\n",
            "Accuracy: 81.3 %\n"
          ]
        }
      ],
      "source": [
        "print(classification_report(y_test,predict_LR))\n",
        "print(confusion_matrix(y_test,predict_LR))\n",
        "print('\\n')\n",
        "print('Accuracy:', np.round(accuracy_score(y_test,predict_LR),3)*100,'%')"
      ]
    },
    {
      "cell_type": "markdown",
      "metadata": {
        "id": "tPBrofNFa4_9"
      },
      "source": [
        "### Concluding the output from all algos"
      ]
    },
    {
      "cell_type": "code",
      "execution_count": 575,
      "metadata": {
        "id": "LIqmyflka0xh"
      },
      "outputs": [],
      "source": [
        "Accuracy_LR = np.round(accuracy_score(y_test,predict_LR),3) *100\n",
        "Accuracy_svc = np.round(accuracy_score(y_test,previsor_svc),3)*100\n",
        "Accuracy_rfc = np.round(accuracy_score(y_test,previsor_rfc),3)*100\n",
        "Accuracy_dtree = np.round(accuracy_score(y_test,previsor_dtree),3)*100"
      ]
    },
    {
      "cell_type": "code",
      "execution_count": null,
      "metadata": {
        "id": "BX6L2BG_bFvr"
      },
      "outputs": [],
      "source": [
        "print('Accuracy_Decision_tree: ',Accuracy_dtree,'%')\n",
        "print('Accuracy_Random_Forest: ', Accuracy_rfc,'%')\n",
        "print('Accuracy_LR: ', Accuracy_LR,'%')\n",
        "print('Accuracy_SVC: ', Accuracy_svc,'%')"
      ]
    },
    {
      "cell_type": "markdown",
      "metadata": {
        "id": "9gAjjMrtbNg7"
      },
      "source": [
        "# We then had a better assessment of our Support Vector Machine with an 85.4% chance of not raining with this information"
      ]
    },
    {
      "cell_type": "markdown",
      "metadata": {
        "id": "2uiZfAruY3S_"
      },
      "source": [
        "# Defining Functions to call the model and give the predicted value as output"
      ]
    },
    {
      "cell_type": "markdown",
      "metadata": {
        "id": "g85ehr1aZBLb"
      },
      "source": [
        "## Decision Tree"
      ]
    },
    {
      "cell_type": "markdown",
      "metadata": {
        "id": "OZug63YJaaij"
      },
      "source": [
        "Creating the function to open the pickle file and predict the output based upon the given inputs"
      ]
    },
    {
      "cell_type": "code",
      "execution_count": 577,
      "metadata": {
        "id": "Kiqtsg9kZAIq"
      },
      "outputs": [],
      "source": [
        "def decisionTreePrediction(MinTemp, MaxTemp, Humidity9am, Humidity3pm, Temp9am, Temp3pm):\n",
        "  with open(\"decisionTree.pkl\", \"rb\") as f:\n",
        "    dTreeF = pickle.load(f);\n",
        "    preds = dTreeF.predict([[MinTemp, MaxTemp, Humidity9am, Humidity3pm, Temp9am, Temp3pm]])\n",
        "\n",
        "    if(preds == 1):\n",
        "      return \"Rain Tomorrow\"\n",
        "    else:\n",
        "      return \"No Rain Tomo\""
      ]
    },
    {
      "cell_type": "markdown",
      "metadata": {
        "id": "Lp5l17ohgPOW"
      },
      "source": [
        "## Random Forest"
      ]
    },
    {
      "cell_type": "markdown",
      "metadata": {
        "id": "ISJY3257gPOX"
      },
      "source": [
        "Creating the function to open the pickle file and predict the output based upon the given inputs"
      ]
    },
    {
      "cell_type": "code",
      "execution_count": 578,
      "metadata": {
        "id": "UvyqB_zpgPOX"
      },
      "outputs": [],
      "source": [
        "def randomForestPrediction(MinTemp, MaxTemp, Humidity9am, Humidity3pm, Temp9am, Temp3pm):\n",
        "  with open(\"randomForest.pkl\", \"rb\") as f:\n",
        "    rfcF = pickle.load(f);\n",
        "    preds = rfcF.predict([[MinTemp, MaxTemp, Humidity9am, Humidity3pm, Temp9am, Temp3pm]])\n",
        "\n",
        "    if(preds == 1):\n",
        "      return \"Rain Tomorrow\"\n",
        "    else:\n",
        "      return \"No Rain Tomorrow\""
      ]
    },
    {
      "cell_type": "markdown",
      "metadata": {
        "id": "dDNRA72fgPb5"
      },
      "source": [
        "## Support Vector Machine"
      ]
    },
    {
      "cell_type": "markdown",
      "metadata": {
        "id": "vceZX75UgPb5"
      },
      "source": [
        "Creating the function to open the pickle file and predict the output based upon the given inputs"
      ]
    },
    {
      "cell_type": "code",
      "execution_count": 579,
      "metadata": {
        "id": "LYq3bPbMgPb5"
      },
      "outputs": [],
      "source": [
        "def SVMPrediction(MinTemp, MaxTemp, Humidity9am, Humidity3pm, Temp9am, Temp3pm):\n",
        "  with open(\"svm.pkl\", \"rb\") as f:\n",
        "    svmF = pickle.load(f);\n",
        "    preds = svmF.predict([[MinTemp, MaxTemp, Humidity9am, Humidity3pm, Temp9am, Temp3pm]])\n",
        "\n",
        "    if(preds == 1):\n",
        "      return \"Rain Tomorrow\"\n",
        "    else:\n",
        "      return \"No Rain Tomorrow\""
      ]
    },
    {
      "cell_type": "markdown",
      "metadata": {
        "id": "cq8bBgGPgeoz"
      },
      "source": [
        "## Logistic Regression"
      ]
    },
    {
      "cell_type": "markdown",
      "metadata": {
        "id": "G7m5mNKGgeo0"
      },
      "source": [
        "Creating the function to open the pickle file and predict the output based upon the given inputs"
      ]
    },
    {
      "cell_type": "code",
      "execution_count": 580,
      "metadata": {
        "id": "-UuB6izTgeo0"
      },
      "outputs": [],
      "source": [
        "def LRPrediction(MinTemp, MaxTemp, Humidity9am, Humidity3pm, Temp9am, Temp3pm):\n",
        "  with open(\"logistic.pkl\", \"rb\") as f:\n",
        "    LRF = pickle.load(f);\n",
        "    preds = LRF.predict([[MinTemp, MaxTemp, Humidity9am, Humidity3pm, Temp9am, Temp3pm]])\n",
        "\n",
        "    if(preds == 1):\n",
        "      return \"Rain Tomorrow\"\n",
        "    else:\n",
        "      return \"No Rain Tomorrow\""
      ]
    }
  ],
  "metadata": {
    "colab": {
      "collapsed_sections": [
        "g85ehr1aZBLb",
        "Lp5l17ohgPOW",
        "dDNRA72fgPb5",
        "cq8bBgGPgeoz",
        "XW6Ym-gFaj9a",
        "H-aBld73gpnd",
        "Wo3jYiP1gtf9",
        "igwZOy0fhM-y",
        "m2HEYLlZhNHt",
        "PQkb09VyhNRA"
      ],
      "provenance": []
    },
    "kernelspec": {
      "display_name": "Python 3.9.12 ('base')",
      "language": "python",
      "name": "python3"
    },
    "language_info": {
      "name": "python",
      "version": "3.9.12"
    },
    "vscode": {
      "interpreter": {
        "hash": "865d8b2eb28e274047ba64063dfb6a2aabf0dfec4905d304d7a76618dae6fdd4"
      }
    }
  },
  "nbformat": 4,
  "nbformat_minor": 0
}
